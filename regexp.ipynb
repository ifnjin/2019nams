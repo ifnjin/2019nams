{
 "cells": [
  {
   "cell_type": "code",
   "execution_count": 4,
   "metadata": {},
   "outputs": [],
   "source": [
    "import nltk\n",
    "import re"
   ]
  },
  {
   "cell_type": "markdown",
   "metadata": {},
   "source": [
    "#### ''' '''\n",
    "    code에서 commment 넣는 방법"
   ]
  },
  {
   "cell_type": "code",
   "execution_count": 5,
   "metadata": {},
   "outputs": [
    {
     "data": {
      "text/plain": [
       "'\\na Basic Regular Expression Meta-Characters, Including Wildcards, Ranges and Closures\\n.\\t        Wildcard, matches any character\\n^abc\\t    Matches some pattern abc at the start of a string\\nabc$\\t    Matches some pattern abc at the end of a string\\n[abc]\\t    Matches one of a set of characters\\n[^abc]      Matches anything but a set of characters #abc를 제외하고 아무거나\\n[A-Z0-9]\\tMatches one of a range of characters #결국 하나의 letter을 뽑음 알파벳과 숫자 중\\ned|ing|s\\tMatches one of the specified strings (disjunction)\\n*\\t        Zero or more of previous item, e.g. a*, [a-z]* (also known as Kleene Closure)\\n+\\t        One or more of previous item, e.g. a+, [a-z]+\\n?\\t        Zero or one of the previous item (i.e. optional), e.g. a?, [a-z]?\\n{n}\\t        Exactly n repeats where n is a non-negative integer\\n{n,}\\t    At least n repeats\\n{,n}\\t    No more than n repeats\\n{m,n}\\t    At least m and no more than n repeats\\na(b|c)+\\t    Parentheses that indicate the scope of the operators\\n'"
      ]
     },
     "execution_count": 5,
     "metadata": {},
     "output_type": "execute_result"
    }
   ],
   "source": [
    "'''\n",
    "a Basic Regular Expression Meta-Characters, Including Wildcards, Ranges and Closures\n",
    ".\t        Wildcard, matches any character\n",
    "^abc\t    Matches some pattern abc at the start of a string\n",
    "abc$\t    Matches some pattern abc at the end of a string\n",
    "[abc]\t    Matches one of a set of characters\n",
    "[^abc]      Matches anything but a set of characters #abc를 제외하고 아무거나\n",
    "[A-Z0-9]\tMatches one of a range of characters #결국 하나의 letter을 뽑음 알파벳과 숫자 중\n",
    "ed|ing|s\tMatches one of the specified strings (disjunction)\n",
    "*\t        Zero or more of previous item, e.g. a*, [a-z]* (also known as Kleene Closure)\n",
    "+\t        One or more of previous item, e.g. a+, [a-z]+\n",
    "?\t        Zero or one of the previous item (i.e. optional), e.g. a?, [a-z]?\n",
    "{n}\t        Exactly n repeats where n is a non-negative integer\n",
    "{n,}\t    At least n repeats\n",
    "{,n}\t    No more than n repeats\n",
    "{m,n}\t    At least m and no more than n repeats\n",
    "a(b|c)+\t    Parentheses that indicate the scope of the operators\n",
    "'''"
   ]
  },
  {
   "cell_type": "markdown",
   "metadata": {},
   "source": [
    "####  regular expression은 string에 적용됨. list에 적용되지 않음\n",
    "    따라서 for loop로 하나하나씩 string을 적용시켜야 한다"
   ]
  },
  {
   "cell_type": "markdown",
   "metadata": {},
   "source": [
    "#### 영어 단어가 소문자로 되는 것들을 list로 뽑아라"
   ]
  },
  {
   "cell_type": "code",
   "execution_count": 6,
   "metadata": {},
   "outputs": [
    {
     "name": "stdout",
     "output_type": "stream",
     "text": [
      "<class 'list'>\n"
     ]
    }
   ],
   "source": [
    "dic = nltk.corpus.words.words('en')\n",
    "print(type(dic))"
   ]
  },
  {
   "cell_type": "markdown",
   "metadata": {},
   "source": [
    "#### word list에 영어로 된 소문자 단어가 있으면 쌓아서 리스트 형식으로 만들어라\n",
    "    for loop 가 있을 때는 in 다음부터 먼저 읽어야 한다. 리스트가 있고 리스트의 항목 수만큼 for loop가 돌면서 is lower인지 검증해서 소문자이면 w(첫번째)에 list로 쌓여서 wordlist가 됨"
   ]
  },
  {
   "cell_type": "code",
   "execution_count": 7,
   "metadata": {},
   "outputs": [
    {
     "name": "stdout",
     "output_type": "stream",
     "text": [
      "['a', 'aa', 'aal', 'aalii', 'aam', 'aardvark', 'aardwolf', 'aba', 'abac', 'abaca', 'abacate', 'abacay', 'abacinate', 'abacination', 'abaciscus', 'abacist', 'aback', 'abactinal', 'abactinally', 'abaction', 'abactor', 'abaculus', 'abacus', 'abaff', 'abaft', 'abaisance', 'abaiser', 'abaissed', 'abalienate', 'abalienation', 'abalone', 'abampere', 'abandon', 'abandonable', 'abandoned', 'abandonedly', 'abandonee', 'abandoner', 'abandonment', 'abaptiston', 'abarthrosis', 'abarticular', 'abarticulation', 'abas', 'abase', 'abased', 'abasedly', 'abasedness', 'abasement', 'abaser', 'abash', 'abashed', 'abashedly', 'abashedness', 'abashless', 'abashlessly', 'abashment', 'abasia', 'abasic', 'abask', 'abastardize', 'abatable', 'abate', 'abatement', 'abater', 'abatis', 'abatised', 'abaton', 'abator', 'abattoir', 'abature', 'abave', 'abaxial', 'abaxile', 'abaze', 'abb', 'abbacomes', 'abbacy', 'abbas', 'abbasi', 'abbassi', 'abbatial', 'abbatical', 'abbess', 'abbey', 'abbeystede', 'abbot', 'abbotcy', 'abbotnullius', 'abbotship', 'abbreviate', 'abbreviately', 'abbreviation', 'abbreviator', 'abbreviatory', 'abbreviature', 'abcoulomb', 'abdal', 'abdat', 'abdest']\n"
     ]
    }
   ],
   "source": [
    "wordlist = [w for w in nltk.corpus.words.words('en') if w.islower()] \n",
    "print(wordlist[:100])"
   ]
  },
  {
   "cell_type": "code",
   "execution_count": 8,
   "metadata": {},
   "outputs": [
    {
     "data": {
      "text/plain": [
       "<_sre.SRE_Match object; span=(0, 3), match='abc'>"
      ]
     },
     "execution_count": 8,
     "metadata": {},
     "output_type": "execute_result"
    }
   ],
   "source": [
    "re.search('abc','abcde')"
   ]
  },
  {
   "cell_type": "markdown",
   "metadata": {},
   "source": [
    "\n",
    "\n",
    "#### if 부분이 없다면 wordlist 소문자 단어들을 for loop 돌고 그대로 넣어버리는 것임/\n",
    "    ($표시는 단어의 끝을 의미함)제일 끝에 ed가 보이면 w(처음에 나오는)에 쌓아라\n",
    "    print(result[:10])이라고 쓰면 redundant하게 들어간 것임. print(result)라고만 써도 된다"
   ]
  },
  {
   "cell_type": "code",
   "execution_count": 9,
   "metadata": {},
   "outputs": [
    {
     "name": "stdout",
     "output_type": "stream",
     "text": [
      "['abaissed', 'abandoned', 'abased', 'abashed', 'abatised', 'abed', 'aborted', 'abridged', 'abscessed', 'absconded']\n"
     ]
    }
   ],
   "source": [
    "result = [w for w in wordlist if re.search('ed$', w)][:10] \n",
    "print(result[:10])"
   ]
  },
  {
   "cell_type": "markdown",
   "metadata": {},
   "source": [
    "#### .- 하나의 character, $ - 문자의 끝, ^- 문자의 처음\n",
    "    8자리 글자를 찾는 것 문자의 앞 뒤를 빼고"
   ]
  },
  {
   "cell_type": "code",
   "execution_count": 10,
   "metadata": {},
   "outputs": [
    {
     "name": "stdout",
     "output_type": "stream",
     "text": [
      "['abjectly', 'adjuster', 'dejected', 'dejectly', 'injector', 'majestic', 'objectee', 'objector', 'rejecter', 'rejector']\n"
     ]
    }
   ],
   "source": [
    "result = [w for w in wordlist if re.search('^..j..t..$', w)][:10] \n",
    "print(result[:10])"
   ]
  },
  {
   "cell_type": "markdown",
   "metadata": {},
   "source": [
    "#### [  ]안에 있는 것중 하나만 만족\n",
    "첫단어는 ghi중 두번째 원소는 mno중 등등 순서대로"
   ]
  },
  {
   "cell_type": "code",
   "execution_count": 11,
   "metadata": {},
   "outputs": [
    {
     "name": "stdout",
     "output_type": "stream",
     "text": [
      "['gold', 'golf', 'hold', 'hole']\n"
     ]
    }
   ],
   "source": [
    "result = [w for w in wordlist if re.search('^[ghi][mno][jlk][def]$', w)][:10]\n",
    "print(result)"
   ]
  },
  {
   "cell_type": "markdown",
   "metadata": {},
   "source": [
    "#### +기호는 1회이상 매치되는 경우"
   ]
  },
  {
   "cell_type": "code",
   "execution_count": 12,
   "metadata": {},
   "outputs": [
    {
     "name": "stdout",
     "output_type": "stream",
     "text": [
      "['a', 'aa', 'ah', 'aha', 'h', 'ha', 'hah']\n"
     ]
    }
   ],
   "source": [
    "result = [w for w in wordlist if re.search('^[ah]+$', w)][:10]\n",
    "print(result[:10])"
   ]
  },
  {
   "cell_type": "markdown",
   "metadata": {},
   "source": [
    "#### 0~9까지 여러번 .을 있는 그대로 표시하려면 \\하고 점을 적고 그 뒤에  0~9R여러번 또 나오게 함 즉, 소수\n"
   ]
  },
  {
   "cell_type": "code",
   "execution_count": 25,
   "metadata": {},
   "outputs": [
    {
     "name": "stdout",
     "output_type": "stream",
     "text": [
      "['0.0085', '0.05', '0.1', '0.16', '0.2', '0.25', '0.28', '0.3', '0.4', '0.5']\n"
     ]
    }
   ],
   "source": [
    "wsj = sorted(set(nltk.corpus.treebank.words()))\n",
    "wordlist = [w for w in wsj if re.search('^[0-9]+\\.[0-9]+$', w)] \n",
    "print(wordlist[:10])"
   ]
  },
  {
   "cell_type": "markdown",
   "metadata": {},
   "source": [
    "#### 실제 $가 나오게 하려고 \\를 앞에 붙임"
   ]
  },
  {
   "cell_type": "code",
   "execution_count": 14,
   "metadata": {},
   "outputs": [
    {
     "name": "stdout",
     "output_type": "stream",
     "text": [
      "['C$', 'US$']\n"
     ]
    }
   ],
   "source": [
    "wordlist = [w for w in wsj if re.search('^[A-Z]+\\$$', w)]\n",
    "print(wordlist[:10])"
   ]
  },
  {
   "cell_type": "code",
   "execution_count": 15,
   "metadata": {},
   "outputs": [
    {
     "name": "stdout",
     "output_type": "stream",
     "text": [
      "['C$', 'US$']\n"
     ]
    }
   ],
   "source": [
    "wordlist = [w for w in wsj if re.search('^[A-Za-z]+\\$$', w)]\n",
    "print(wordlist[:10])"
   ]
  },
  {
   "cell_type": "markdown",
   "metadata": {},
   "source": [
    "#### { n } curly bracket\n",
    "    n번 반복되는 "
   ]
  },
  {
   "cell_type": "code",
   "execution_count": 16,
   "metadata": {},
   "outputs": [
    {
     "name": "stdout",
     "output_type": "stream",
     "text": [
      "['1614', '1637', '1787', '1901', '1903', '1917', '1925', '1929', '1933', '1934']\n"
     ]
    }
   ],
   "source": [
    "wordlist = [w for w in wsj if re.search('^[0-9]{4}$', w)]\n",
    "print(wordlist[:10])"
   ]
  },
  {
   "cell_type": "code",
   "execution_count": 17,
   "metadata": {},
   "outputs": [
    {
     "name": "stdout",
     "output_type": "stream",
     "text": [
      "['10-day', '10-lap', '10-year', '100-share', '12-point', '12-year', '14-hour', '15-day', '150-point', '190-point']\n"
     ]
    }
   ],
   "source": [
    "wordlist = [w for w in wsj if re.search('^[0-9]+-[a-z]{3,5}$', w)]\n",
    "print(wordlist[:10])"
   ]
  },
  {
   "cell_type": "code",
   "execution_count": 18,
   "metadata": {},
   "outputs": [
    {
     "name": "stdout",
     "output_type": "stream",
     "text": [
      "['black-and-white', 'bread-and-butter', 'father-in-law', 'machine-gun-toting', 'savings-and-loan']\n"
     ]
    }
   ],
   "source": [
    "wordlist = [w for w in wsj if re.search('^[a-z]{5,}-[a-z]{2,3}-[a-z]{,6}$', w)]\n",
    "print(wordlist[:10])"
   ]
  },
  {
   "cell_type": "markdown",
   "metadata": {},
   "source": [
    "#### | 표시는 or의 의미"
   ]
  },
  {
   "cell_type": "code",
   "execution_count": 19,
   "metadata": {},
   "outputs": [
    {
     "name": "stdout",
     "output_type": "stream",
     "text": [
      "['62%-owned', 'Absorbed', 'According', 'Adopting', 'Advanced', 'Advancing', 'Alfred', 'Allen', 'Allied', 'Annualized']\n"
     ]
    }
   ],
   "source": [
    "wordlist = [w for w in wsj if re.search('(ed|ing|en)$', w)]\n",
    "print(wordlist[:10])"
   ]
  },
  {
   "cell_type": "markdown",
   "metadata": {},
   "source": [
    "#### search\n",
    "    어떤 패턴이 있으면 찾아라(ex.abcde에서 abc라는 패턴을 찾아라)"
   ]
  },
  {
   "cell_type": "markdown",
   "metadata": {},
   "source": [
    "#### 아래 함수에 입력이 두개 되어있음\n",
    "    (1,2)-> 1은 찾는 조건, 2는 찾는 대상"
   ]
  },
  {
   "cell_type": "code",
   "execution_count": 20,
   "metadata": {},
   "outputs": [
    {
     "data": {
      "text/plain": [
       "<_sre.SRE_Match object; span=(0, 3), match='abc'>"
      ]
     },
     "execution_count": 20,
     "metadata": {},
     "output_type": "execute_result"
    }
   ],
   "source": [
    "re.search('abc','abcde')"
   ]
  },
  {
   "cell_type": "code",
   "execution_count": 21,
   "metadata": {},
   "outputs": [
    {
     "data": {
      "text/plain": [
       "['ab', 'ab', 'ab', 'ab']"
      ]
     },
     "execution_count": 21,
     "metadata": {},
     "output_type": "execute_result"
    }
   ],
   "source": [
    "re.findall('ab','abababab')"
   ]
  },
  {
   "cell_type": "markdown",
   "metadata": {},
   "source": [
    "#### aeious중 2개 이상인걸 찾아와서 list에서 그 개수만큼 for loop를 돌면서 vs 가 되어 그것을 다 list화 하라"
   ]
  },
  {
   "cell_type": "code",
   "execution_count": 23,
   "metadata": {},
   "outputs": [
    {
     "data": {
      "text/plain": [
       "[('es', 588),\n",
       " ('io', 483),\n",
       " ('ea', 399),\n",
       " ('is', 277),\n",
       " ('ou', 270),\n",
       " ('ai', 251),\n",
       " ('ia', 239),\n",
       " ('ie', 221),\n",
       " ('ee', 193),\n",
       " ('se', 193)]"
      ]
     },
     "execution_count": 23,
     "metadata": {},
     "output_type": "execute_result"
    }
   ],
   "source": [
    "fdist = nltk.FreqDist(vs for word in wsj for vs in re.findall(r'[aeious]{2,}',word))\n",
    "fdist.most_common(10)"
   ]
  },
  {
   "cell_type": "markdown",
   "metadata": {},
   "source": [
    "#### re.findall\n",
    "    Return all non-overlapping matches of pattern in string, as a list of strings"
   ]
  },
  {
   "cell_type": "markdown",
   "metadata": {},
   "source": [
    "#### If the first character of the set is '^', all the characters that are not in the set will be matched\n",
    "[^5] will match any character except '5',"
   ]
  },
  {
   "cell_type": "code",
   "execution_count": 24,
   "metadata": {},
   "outputs": [
    {
     "name": "stdout",
     "output_type": "stream",
     "text": [
      "['u', 'e', 'a', 'i', 'a', 'i', 'i', 'i', 'e', 'i', 'a', 'i', 'o', 'i', 'o', 'u']\n",
      "['rc', 'fr', 'st', 'xp', 'ci']\n",
      "['supercalifragilisticexpialidocious']\n",
      "['sup', 'rcal', 'frag', 'lis', 'tic', 'xpial', 'doc']\n"
     ]
    }
   ],
   "source": [
    "word = 'supercalifragilisticexpialidocious'\n",
    "result = re.findall(r'[aeiou]', word)\n",
    "print(result)\n",
    "result = re.findall('[aeiou](..)[aeiou]', word)\n",
    "print(result)\n",
    "result = re.findall('[^aeiou].+[^aeiou]', word)\n",
    "print(result)\n",
    "result = re.findall('[^aeiou].+?[^aeiou]', word)\n",
    "print(result)"
   ]
  },
  {
   "cell_type": "code",
   "execution_count": null,
   "metadata": {},
   "outputs": [],
   "source": [
    "wsj = sorted(set(nltk.corpus.treebank.words()))\n",
    "fdist = nltk.FreqDist(vs for word in wsj for vs in re.findall(r'[aeiou]{2,}', word))\n",
    "fdist.most_common(10)"
   ]
  },
  {
   "cell_type": "code",
   "execution_count": null,
   "metadata": {},
   "outputs": [],
   "source": [
    "regexp = r'^[AEIOUaeiou]+|[AEIOUaeiou]+$|[^AEIOUaeiou]'\n",
    "def compress(word):\n",
    "    pieces = re.findall(regexp, word)\n",
    "    return ''.join(pieces)\n",
    "\n",
    "english_udhr = nltk.corpus.udhr.words('English-Latin1')\n",
    "print(nltk.tokenwrap(compress(w) for w in english_udhr[:75]))\n"
   ]
  },
  {
   "cell_type": "code",
   "execution_count": null,
   "metadata": {},
   "outputs": [],
   "source": [
    "rotokas_words = nltk.corpus.toolbox.words('rotokas.dic')\n",
    "cvs = [cv for w in rotokas_words for cv in re.findall(r'[ptksvr][aeiou]', w)]\n",
    "cfd = nltk.ConditionalFreqDist(cvs) # CFD works pairwise only\n",
    "cfd.tabulate()"
   ]
  },
  {
   "cell_type": "code",
   "execution_count": null,
   "metadata": {},
   "outputs": [],
   "source": [
    "cv_word_pairs = [(cv, w) for w in rotokas_words for cv in re.findall(r'[ptksvr][aeiou]', w)]\n",
    "cv_index = nltk.Index(cv_word_pairs)\n",
    "cv_index['po']"
   ]
  },
  {
   "cell_type": "code",
   "execution_count": null,
   "metadata": {},
   "outputs": [],
   "source": []
  }
 ],
 "metadata": {
  "kernelspec": {
   "display_name": "Python 3",
   "language": "python",
   "name": "python3"
  },
  "language_info": {
   "codemirror_mode": {
    "name": "ipython",
    "version": 3
   },
   "file_extension": ".py",
   "mimetype": "text/x-python",
   "name": "python",
   "nbconvert_exporter": "python",
   "pygments_lexer": "ipython3",
   "version": "3.6.5"
  }
 },
 "nbformat": 4,
 "nbformat_minor": 1
}
